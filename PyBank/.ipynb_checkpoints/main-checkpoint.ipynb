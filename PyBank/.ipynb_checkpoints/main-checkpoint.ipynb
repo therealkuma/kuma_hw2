{
 "cells": [
  {
   "cell_type": "code",
   "execution_count": 126,
   "id": "0e1621fc-8011-499e-acc4-2c0b55686ffd",
   "metadata": {},
   "outputs": [
    {
     "name": "stdout",
     "output_type": "stream",
     "text": [
      "Total month 86 \n",
      "Total Profit 38382578 \n",
      "Average change is -2315.1176470588234 \n",
      "Greateast increase in profit: 1926159.0\n",
      "Greateast decrease in profit: -2196167.0\n"
     ]
    }
   ],
   "source": [
    "import pandas as pd\n",
    "from pathlib import Path\n",
    "\n",
    "csvpath = Path(\"../Pybank/budget_data.csv\")\n",
    "set_dataframe = pd.read_csv(csvpath)\n",
    "\n",
    "# change header to whatever I want.\n",
    "columns = [\"kuma data\", \"kuma P/L\"]\n",
    "set_dataframe.columns = columns\n",
    "set_dataframe.head()\n",
    "\n",
    "# rename header\n",
    "rename_dataframe = set_dataframe.rename(columns={\n",
    "    \"kuma data\":\"funny data\"\n",
    "})\n",
    "\n",
    "#  \n",
    "total_month = rename_dataframe.count()\n",
    "\n",
    "value_total = rename_dataframe.sum()\n",
    "\n",
    "print(f\"Total month {total_month[0]} \")\n",
    "print(f\"Total Profit {value_total[1]} \")\n",
    "\n",
    "\n",
    "#  print(total_month[\"funny data\"]),   why can't I use formatted print for this one?\n",
    "\n",
    "# create a new column with calculated info\n",
    "# rename_dataframe['half_PL'] = rename_dataframe['kuma P/L']/2\n",
    "#  rename_dataframe.head(2)\n",
    "\n",
    "rename_dataframe['shifted_column'] = rename_dataframe['kuma P/L'].shift(1)\n",
    "rename_dataframe['difference'] = rename_dataframe['kuma P/L'] - rename_dataframe['shifted_column'] \n",
    "\n",
    "ave_change = rename_dataframe['difference'].mean()\n",
    "\n",
    "print(f\"Average change is {ave_change} \")\n",
    "\n",
    "greateast_increase = rename_dataframe['difference'].max()\n",
    "greateast_decrease = rename_dataframe['difference'].min()\n",
    "\n",
    "print(f\"Greateast increase in profit: {greateast_increase}\")\n",
    "\n",
    "print(f\"Greateast decrease in profit: {greateast_decrease}\")\n"
   ]
  },
  {
   "cell_type": "code",
   "execution_count": null,
   "id": "a476df20-7b7d-42a5-8fe7-2e6fe32bacaa",
   "metadata": {},
   "outputs": [],
   "source": []
  },
  {
   "cell_type": "code",
   "execution_count": null,
   "id": "9ee66e58-3ad9-4b31-945d-cc79a091a37d",
   "metadata": {},
   "outputs": [],
   "source": []
  },
  {
   "cell_type": "code",
   "execution_count": null,
   "id": "01c9ad24-1b9f-4cf1-be55-89c023d08479",
   "metadata": {},
   "outputs": [],
   "source": []
  }
 ],
 "metadata": {
  "kernelspec": {
   "display_name": "Python 3 (ipykernel)",
   "language": "python",
   "name": "python3"
  },
  "language_info": {
   "codemirror_mode": {
    "name": "ipython",
    "version": 3
   },
   "file_extension": ".py",
   "mimetype": "text/x-python",
   "name": "python",
   "nbconvert_exporter": "python",
   "pygments_lexer": "ipython3",
   "version": "3.7.13"
  }
 },
 "nbformat": 4,
 "nbformat_minor": 5
}
